{
 "cells": [
  {
   "cell_type": "markdown",
   "metadata": {},
   "source": [
    "# Import Library"
   ]
  },
  {
   "cell_type": "code",
   "execution_count": null,
   "metadata": {},
   "outputs": [],
   "source": [
    "import yfinance as yf\n",
    "import pandas as pd\n",
    "import matplotlib.pyplot as plt\n",
    "import plotly.graph_objects as go\n",
    "from plotly.subplots import make_subplots\n",
    "import numpy as np\n",
    "import seaborn as sns\n",
    "import datetime as dt\n",
    "from matplotlib.ticker import PercentFormatter\n",
    "# import os\n",
    "# from fredapi import Fred\n",
    "\n",
    "import marketobserve as mo\n",
    "\n"
   ]
  },
  {
   "cell_type": "markdown",
   "metadata": {},
   "source": [
    "# Return Distribution"
   ]
  },
  {
   "cell_type": "code",
   "execution_count": null,
   "metadata": {},
   "outputs": [],
   "source": [
    "# download data from yfinance\n",
    "\"\"\"\n",
    "If failed, try:\n",
    "    pip uninstall yfinance\n",
    "    pip install yfinance --upgrade --no-cache-dir\n",
    "\"\"\"\n",
    "data = yf.download('UVIX', start='1900-01-01',auto_adjust=False)[[\"Adj Close\"]] # UVXY (1.5xL), UVIX (2xL), SVXY (1xS), SVIX (1xS), SVOL (), VIXM, VIXY, VXX, VXZ\n",
    "data.columns = ['Close']\n",
    "\n",
    "\n",
    "# download data from local file\n",
    "# data = pd.read_excel(\"spx.xlsx\",index_col=\"Date\")\n",
    "# data.columns = [\"Close\"]\n",
    "# data = data.sort_index(ascending=True)\n",
    "\n",
    "# # download data from xbbg\n",
    "# from xbbg import blp\n",
    "# data = blp.bdh(\"SPX Index\",\"PX_LAST\",\"1900-01-01\") # HSI, NKY, SPX\n",
    "# data.columns = [\"Close\"]\n",
    "# data = data.sort_index(ascending=True)"
   ]
  },
  {
   "cell_type": "code",
   "execution_count": null,
   "metadata": {},
   "outputs": [],
   "source": [
    "data\n",
    "# data.describe()"
   ]
  },
  {
   "cell_type": "code",
   "execution_count": null,
   "metadata": {},
   "outputs": [],
   "source": [
    "# test\n",
    "mo.ChangeDistPlot(data, time_windows=['1Y', ('20240101', '20250401'), '100Y'], frequencies = ['W', 'M'])"
   ]
  },
  {
   "cell_type": "code",
   "execution_count": null,
   "metadata": {},
   "outputs": [],
   "source": [
    "# 生成示例数据\n",
    "\n",
    "# 测试不同的 time_window 输入\n",
    "data_test = data[\"Close\"].copy()\n",
    "\n",
    "time_window = ['10Y' ]\n",
    "mo.BullBearPlot(data_test, time_window)"
   ]
  },
  {
   "cell_type": "code",
   "execution_count": null,
   "metadata": {},
   "outputs": [],
   "source": []
  }
 ],
 "metadata": {
  "kernelspec": {
   "display_name": "base",
   "language": "python",
   "name": "python3"
  },
  "language_info": {
   "codemirror_mode": {
    "name": "ipython",
    "version": 3
   },
   "file_extension": ".py",
   "mimetype": "text/x-python",
   "name": "python",
   "nbconvert_exporter": "python",
   "pygments_lexer": "ipython3",
   "version": "3.9.13"
  }
 },
 "nbformat": 4,
 "nbformat_minor": 2
}
