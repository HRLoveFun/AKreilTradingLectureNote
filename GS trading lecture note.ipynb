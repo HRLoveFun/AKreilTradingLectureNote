{
 "cells": [
  {
   "cell_type": "markdown",
   "metadata": {},
   "source": [
    "# Import Library"
   ]
  },
  {
   "cell_type": "code",
   "execution_count": null,
   "metadata": {},
   "outputs": [],
   "source": [
    "import yfinance as yf\n",
    "import marketobserve as mo\n",
    "import pandas as pd\n",
    "import matplotlib.pyplot as plt\n",
    "import plotly.graph_objects as go\n",
    "from plotly.subplots import make_subplots\n",
    "import numpy as np\n",
    "import seaborn as sns\n",
    "import datetime as dt\n",
    "from matplotlib.ticker import PercentFormatter\n",
    "import os\n",
    "from fredapi import Fred\n",
    "\n"
   ]
  },
  {
   "cell_type": "markdown",
   "metadata": {},
   "source": [
    "# Bull and Bear Markets"
   ]
  },
  {
   "cell_type": "code",
   "execution_count": null,
   "metadata": {},
   "outputs": [],
   "source": [
    "# download data from yfinance\n",
    "\"\"\"\n",
    "If failed, try:\n",
    "    pip uninstall yfinance\n",
    "    pip install yfinance --upgrade --no-cache-dir\n",
    "\"\"\"\n",
    "data = yf.download('^HSCE', start='1900-01-01',auto_adjust=False)[[\"Adj Close\"]] # ^GSPC, ^HSI, ^HSCE, ^N225, 000300.SS\n",
    "data.columns = ['Close']\n",
    "\n",
    "\n",
    "# download data from local file\n",
    "# data = pd.read_excel(\"spx.xlsx\",index_col=\"Date\")\n",
    "# data.columns = [\"Close\"]\n",
    "# data = data.sort_index(ascending=True)\n",
    "\n",
    "# # download data from xbbg\n",
    "# from xbbg import blp\n",
    "# data = blp.bdh(\"SPX Index\",\"PX_LAST\",\"1900-01-01\") # HSI, NKY, SPX\n",
    "# data.columns = [\"Close\"]\n",
    "# data = data.sort_index(ascending=True)"
   ]
  },
  {
   "cell_type": "code",
   "execution_count": null,
   "metadata": {},
   "outputs": [],
   "source": [
    "# data.to_excel(\"spx_wrangle.xlsx\")\n",
    "data\n",
    "# data.describe()"
   ]
  },
  {
   "cell_type": "code",
   "execution_count": null,
   "metadata": {},
   "outputs": [],
   "source": [
    "# test\n",
    "# mo.ChangeDistPlot(data, time_windows=['1Y', ('20250101', '20250401'), '100Y'], frequencies = ['W', 'M'])"
   ]
  },
  {
   "cell_type": "code",
   "execution_count": null,
   "metadata": {},
   "outputs": [],
   "source": [
    "# 生成示例数据\n",
    "\n",
    "# 测试不同的 time_window 输入\n",
    "data_test = data[\"Close\"].copy()\n",
    "\n",
    "time_window = ['1Y' ]\n",
    "# mo.BullBearPlot(data_test, time_window)"
   ]
  },
  {
   "cell_type": "markdown",
   "metadata": {},
   "source": [
    "# Real GDP QoQ Growth and SP500 Quarterly Return"
   ]
  },
  {
   "cell_type": "code",
   "execution_count": null,
   "metadata": {},
   "outputs": [],
   "source": [
    "# 初始化FRED接口\n",
    "try:\n",
    "    FRED_API_KEY = '60ff98537aa3cea94ede3173c3706e98'\n",
    "    fred = Fred(api_key=FRED_API_KEY) # Set API directly\n",
    "    # FRED_API_KEY = os.environ['FRED_API_KEY']  # Set API from envirenment\n",
    "    print(f\"Successfully obtained the FRED API key\")\n",
    "\n",
    "except Exception as e:\n",
    "    raise ValueError(\"FRED API初始化失败，请检查API密钥有效性\") from e\n"
   ]
  },
  {
   "cell_type": "code",
   "execution_count": null,
   "metadata": {},
   "outputs": [],
   "source": [
    "# 获取季度实际GDP数据（GDPC1）\n",
    "real_qgdp = fred.get_series('GDPC1')\n",
    "real_qgdp = pd.DataFrame(real_qgdp,columns=['RealGDP'])\n",
    "\n",
    "# 获取SP500 Quarterly end price\n",
    "# sp500_qend = yf.download('^GSPC', start='1900-01-01', interval='3mo')['Close']\n",
    "sp500_qend = yf.download('^GSPC', start='1900-01-01')['Close']\n",
    "sp500_qend.columns = [\"SP500_QEnd\"]\n",
    "# Group the sp500_qend data by year and month\n",
    "sp500_qend = sp500_qend.groupby(pd.Grouper(freq='Q')).last()# Select the last row of each group while preserving the original date index\n",
    "\n",
    "# Convert the index to the first day of each quarter\n",
    "index_quarter_start = pd.date_range(start=sp500_qend.index.min(), end=sp500_qend.index.max(), freq='QS')\n",
    "sp500_qend = sp500_qend[1:]\n",
    "sp500_qend.index = index_quarter_start\n",
    "\n",
    "\n",
    "# Combine pd.Series real_gdp and pd.DataFrame sp500_qend into one dataframe, they are different index, add new columns: 'QoQsp500Return': 1 if pct_change > 0 otherwise -1;'QoQGDPGrowth': 1 if pct_change > 0 otherwise -1; \n",
    "quarterly_gdp_sp500_analysis_df = pd.concat([real_qgdp, sp500_qend], axis=1)\n",
    "\n",
    "# Calculate the percentage change for each series\n",
    "quarterly_gdp_sp500_analysis_df['RealGDP_QoQ_Growth'] = (quarterly_gdp_sp500_analysis_df['RealGDP'].pct_change()*100)\n",
    "quarterly_gdp_sp500_analysis_df['SP500_QoQ_Return'] = (quarterly_gdp_sp500_analysis_df['SP500_QEnd'].pct_change()*100)\n",
    "# quarterly_gdp_sp500_analysis_df.dropna(inplace=True)\n",
    "\n",
    "# # Create new columns based on the percentage change\n",
    "quarterly_gdp_sp500_analysis_df['RealGDP_QoQ_Growth_Signal'] = np.where(quarterly_gdp_sp500_analysis_df['RealGDP_QoQ_Growth'] > 0, 1, -1)\n",
    "quarterly_gdp_sp500_analysis_df['SP500_QoQ_Return_Signal'] = np.where(quarterly_gdp_sp500_analysis_df['SP500_QoQ_Return'] > 0, 1, -1)\n",
    "\n",
    "# Add columns of quarterly_gdp_sp500_analysis_df: shift 1 to 4 of SP500_QoQ_Return \n",
    "lags = range(1, 5)\n",
    "for i in lags:\n",
    "    quarterly_gdp_sp500_analysis_df[f'SP500_QoQ_Return_Lag{i}Q'] = quarterly_gdp_sp500_analysis_df['SP500_QoQ_Return'].shift(i)\n",
    "for i in lags:\n",
    "    quarterly_gdp_sp500_analysis_df[f'SP500_QoQ_Return_Signal_Lag{i}Q'] = quarterly_gdp_sp500_analysis_df['SP500_QoQ_Return_Signal'].shift(i)\n",
    "\n",
    "\n",
    "\n",
    "# Drop the intermediate percentage change columns if you don't need them\n",
    "# quarterly_gdp_sp500_analysis_df = quarterly_gdp_sp500_analysis_df.drop(columns=['SP500_QEnd', 'RealGDP'])\n",
    "quarterly_gdp_sp500_analysis_df = quarterly_gdp_sp500_analysis_df.iloc[:-1]\n",
    "quarterly_gdp_sp500_analysis_df.dropna(inplace=True)\n",
    "\n",
    "\n"
   ]
  },
  {
   "cell_type": "code",
   "execution_count": null,
   "metadata": {},
   "outputs": [],
   "source": [
    "quarterly_gdp_sp500_analysis_df.head()"
   ]
  },
  {
   "cell_type": "markdown",
   "metadata": {},
   "source": [
    "## Correlation Analysis"
   ]
  },
  {
   "cell_type": "markdown",
   "metadata": {},
   "source": [
    "Here use \"lag\" \"QoQ SP500 return\". \\\n",
    "Extension analysis: \n",
    "- \"lag\" \"90 day\" \"SP500 return\" \"crossing a quarter\"; \n",
    "- \"lag\" \"variable day range\" \"SP500 return\" \"crossing a quarter\"；\n",
    "- \"variable rolling window\";"
   ]
  },
  {
   "cell_type": "markdown",
   "metadata": {},
   "source": [
    "Correlation Matrix"
   ]
  },
  {
   "cell_type": "code",
   "execution_count": null,
   "metadata": {},
   "outputs": [],
   "source": [
    "# Calculate the correlation matrix\n",
    "correlation_matrix = quarterly_gdp_sp500_analysis_df.iloc[:,:8].corr()\n",
    "\n",
    "# Optionally, you can visualize the correlation matrix using seaborn\n",
    "import seaborn as sns\n",
    "import matplotlib.pyplot as plt\n",
    "\n",
    "plt.figure(figsize=(10, 8))\n",
    "sns.heatmap(correlation_matrix, annot=True, cmap='coolwarm')\n",
    "plt.title('Correlation Matrix of Quarterly GDP and SP500 Analysis')\n",
    "plt.show()\n"
   ]
  },
  {
   "cell_type": "markdown",
   "metadata": {},
   "source": [
    "Rolling Correlation Dynamics"
   ]
  },
  {
   "cell_type": "code",
   "execution_count": null,
   "metadata": {},
   "outputs": [],
   "source": [
    "# Create a figure with n rows and 2 columns\n",
    "fig, axes = plt.subplots(len(lags), 2, figsize=(18, 5 * len(lags)))\n",
    "\n",
    "for i, lag in enumerate(lags):\n",
    "    independ_col = f'SP500_QoQ_Return_Lag{lag}Q'\n",
    "    depend_col = 'RealGDP_QoQ_Growth'\n",
    "\n",
    "    # Define a color palette for different window sizes\n",
    "    window_sizes = [8, 20] \n",
    "    colors = plt.cm.viridis(np.linspace(0, 1, len(window_sizes)))\n",
    "\n",
    "    # Line chart for correlations\n",
    "    for j, window in enumerate(window_sizes):\n",
    "        # Calculate rolling correlation\n",
    "        rolling_corr = quarterly_gdp_sp500_analysis_df[[independ_col, depend_col]].rolling(window=window).corr()\n",
    "        rolling_corr = rolling_corr.xs(independ_col, level=1)[depend_col]\n",
    "        \n",
    "        # Plot the rolling correlation with a unified color\n",
    "        axes[i, 0].plot(rolling_corr.index, rolling_corr, label=f'Window: {window}', color=colors[j])\n",
    "    \n",
    "    axes[i, 0].set_title(f'Rolling Correlation between {independ_col} and {depend_col}')\n",
    "    axes[i, 0].set_xlabel('Date')\n",
    "    axes[i, 0].set_ylabel('Correlation')\n",
    "    axes[i, 0].legend()\n",
    "    axes[i, 0].grid(True)\n",
    "\n",
    "    # Distribution chart for correlations\n",
    "    for j, window in enumerate(window_sizes):\n",
    "        # Calculate rolling correlation\n",
    "        rolling_corr = quarterly_gdp_sp500_analysis_df[[independ_col, depend_col]].rolling(window=window).corr()\n",
    "        rolling_corr = rolling_corr.xs(independ_col, level=1)[depend_col].dropna()\n",
    "        # Plot the distribution chart with a unified color\n",
    "        sns.histplot(rolling_corr, ax=axes[i, 1], kde=True, label=f'Window: {window}', color=colors[j])\n",
    "    \n",
    "    axes[i, 1].set_title(f'Distribution of Rolling Correlation between {independ_col} and {depend_col}')\n",
    "    axes[i, 1].set_xlabel('Correlation')\n",
    "    axes[i, 1].set_ylabel('Frequency')\n",
    "    axes[i, 1].legend()\n",
    "\n",
    "plt.tight_layout()\n",
    "plt.show()"
   ]
  },
  {
   "cell_type": "markdown",
   "metadata": {},
   "source": [
    "## Confusion Matrix"
   ]
  },
  {
   "cell_type": "code",
   "execution_count": null,
   "metadata": {},
   "outputs": [],
   "source": [
    "from sklearn.metrics import confusion_matrix\n",
    "\n",
    "# Create a figure with n rows and 2 columns\n",
    "fig, axes = plt.subplots(len(lags), 2, figsize=(18, 5 * len(lags)))\n",
    "\n",
    "for i, lag in enumerate(lags):\n",
    "    independ_col = f'SP500_QoQ_Return_Signal_Lag{lag}Q'\n",
    "    depend_col = 'RealGDP_QoQ_Growth_Signal'\n",
    "    \n",
    "    # Calculate the confusion matrix\n",
    "    valid_data = quarterly_gdp_sp500_analysis_df[[depend_col, independ_col]].dropna()\n",
    "    cm = confusion_matrix(valid_data[depend_col], valid_data[independ_col])\n",
    "    \n",
    "    # Calculate the percentage for each cell\n",
    "    cm_percentage = cm / cm.sum() * 100\n",
    "    \n",
    "    # Plot the confusion matrix\n",
    "    sns.heatmap(cm_percentage, annot=True, fmt='.0f', ax=axes[i, 0], cmap='Blues')\n",
    "    axes[i, 0].set_title(f'Confusion Matrix for Lag {lag}Q')\n",
    "    axes[i, 0].set_xlabel('Predicted Label [%]')\n",
    "    axes[i, 0].set_ylabel('True Label [%]')\n",
    "    \n",
    "    # Calculate the curve\n",
    "    y_true = valid_data[depend_col]\n",
    "    y_scores = valid_data[independ_col]\n",
    "    \n",
    "    # Calculate rolling accuracy period by period\n",
    "    rolling_windows = [8, 20, 40]  # You can adjust this window size\n",
    "    for rolling_window in rolling_windows:\n",
    "        # Calculate rolling accuracy\n",
    "        rolling_accuracy = ( ((y_true == y_scores).rolling(window=rolling_window)).sum() / rolling_window) * 100\n",
    "\n",
    "        # Plot the rolling accuracy in the correct subplot\n",
    "        axes[i, 1].plot(rolling_accuracy, label=f'Rolling Accuracy ({rolling_window} periods)')\n",
    "    \n",
    "    axes[i, 1].set_xlabel('Period')\n",
    "    axes[i, 1].set_ylabel('Rolling Accuracy (%)')\n",
    "    axes[i, 1].set_title(f'Rolling Accuracy for Lag {lag}Q')\n",
    "    axes[i, 1].legend()\n",
    "\n",
    "# Display the figure outside the loop\n",
    "plt.tight_layout()\n",
    "plt.show()"
   ]
  },
  {
   "cell_type": "code",
   "execution_count": null,
   "metadata": {},
   "outputs": [],
   "source": []
  }
 ],
 "metadata": {
  "kernelspec": {
   "display_name": "base",
   "language": "python",
   "name": "python3"
  },
  "language_info": {
   "codemirror_mode": {
    "name": "ipython",
    "version": 3
   },
   "file_extension": ".py",
   "mimetype": "text/x-python",
   "name": "python",
   "nbconvert_exporter": "python",
   "pygments_lexer": "ipython3",
   "version": "3.8.8"
  }
 },
 "nbformat": 4,
 "nbformat_minor": 2
}
